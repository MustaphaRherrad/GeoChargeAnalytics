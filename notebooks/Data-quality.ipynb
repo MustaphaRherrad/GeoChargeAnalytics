{
 "cells": [
  {
   "cell_type": "code",
   "execution_count": 1,
   "id": "b901f274-cd21-4357-b1eb-299620e49126",
   "metadata": {},
   "outputs": [],
   "source": [
    "import sys\n",
    "import os\n",
    "\n",
    "# Chemin absolu ou relatif vers le dossier racine du projet (qui contient le dossier geocharge)\n",
    "project_root = os.path.abspath(os.path.join(os.getcwd(), '..'))\n",
    "if project_root not in sys.path:\n",
    "    sys.path.append(project_root)"
   ]
  },
  {
   "cell_type": "code",
   "execution_count": 2,
   "id": "4e5f6c68-278b-4360-b70b-cbf28c1edeb7",
   "metadata": {},
   "outputs": [],
   "source": [
    "from geocharge.preprocessing import load_data, clean_data, parse_coords\n",
    "from geocharge.regions import extract_departement, filter_by_ville\n",
    "from geocharge.analysis import count_stations\n",
    "from geocharge.visualization import generate_map, generate_heatmap"
   ]
  },
  {
   "cell_type": "markdown",
   "id": "06e9578d-073e-4746-b8b3-8db3da6c2544",
   "metadata": {},
   "source": [
    "### 1. Fonction de pré-nettoyage (à exécuter en premier)"
   ]
  },
  {
   "cell_type": "code",
   "execution_count": 3,
   "id": "3ce12bde-aa39-44ed-9a49-a3456b8ba7bd",
   "metadata": {},
   "outputs": [],
   "source": [
    "def preclean_address(adresse: str) -> str:\n",
    "    \"\"\"Nettoyage approfondi des adresses avant traitement\"\"\"\n",
    "    if pd.isna(adresse):\n",
    "        return \"\"\n",
    "    \n",
    "    # Conversion unicode et suppression caractères spéciaux\n",
    "    adresse = adresse.encode('utf-8', 'ignore').decode('utf-8')\n",
    "    adresse = re.sub(r'[^\\w\\s\\-\\'\\/,]', ' ', adresse, flags=re.UNICODE)\n",
    "    \n",
    "    # Normalisation des apostrophes et tirets\n",
    "    adresse = re.sub(r'[\\‘\\’\\`\\´]', \"'\", adresse)\n",
    "    adresse = re.sub(r'[\\–\\—]', '-', adresse)\n",
    "    \n",
    "    # Suppression des motifs parasites\n",
    "    patterns_to_remove = [\n",
    "        r'CEDEX?\\b.*$', r'BP \\d+', r'\\(\\d+\\)', \n",
    "        r'\\bLIEU-DIT\\b', r'\\bZ[AI][C]\\b', r'\\bFRANCE\\b',\n",
    "        r'\\b\\d{4,5}\\s+\\d{4,5}\\b'  # Codes postaux dupliqués\n",
    "    ]\n",
    "    for pattern in patterns_to_remove:\n",
    "        adresse = re.sub(pattern, '', adresse, flags=re.IGNORECASE)\n",
    "    \n",
    "    # Normalisation des espaces\n",
    "    adresse = re.sub(r'\\s+', ' ', adresse).strip()\n",
    "    \n",
    "    return adresse.upper()"
   ]
  },
  {
   "cell_type": "code",
   "execution_count": 7,
   "id": "30813118-112b-4055-8800-9a790fdefdd7",
   "metadata": {},
   "outputs": [
    {
     "name": "stderr",
     "output_type": "stream",
     "text": [
      "c:\\code\\projets_perso\\projets\\GeoChargeAnalytics\\geocharge\\preprocessing.py:9: DtypeWarning: Columns (12,18,19,20,21,22,24,29,33) have mixed types. Specify dtype option on import or set low_memory=False.\n",
      "  return pd.read_csv(filepath)\n"
     ]
    }
   ],
   "source": [
    "import pandas as pd\n",
    "import re\n",
    "\n",
    "df = load_data(\"../data/raw/consolidation-etalab-schema-irve-statique-v-2.3.1-20250608.csv\")\n",
    "\n",
    "# Supposons que la colonne contenant les adresses s'appelle 'adresse_station'\n",
    "df[\"adresse_station_clean\"] = df[\"adresse_station\"].apply(preclean_address)\n"
   ]
  },
  {
   "cell_type": "code",
   "execution_count": 9,
   "id": "6cf2007d-501f-47cd-82bc-fa6e1c3021b9",
   "metadata": {},
   "outputs": [],
   "source": [
    "# Export vers fichier Excel pour exploration visuelle\n",
    "# Liste des colonnes à exporter\n",
    "colonnes_a_exporter = [\n",
    "    \"adresse_station_clean\",\n",
    "    \"adresse_station\",\n",
    "    \"nom_station\",\n",
    "    \"coordonneesXY\",\n",
    "    \"nbre_pdc\",\n",
    "    \"puissance_nominale\",\n",
    "    \"code_insee_commune\",\n",
    "]\n",
    "\n",
    "# Extraction des colonnes\n",
    "df_export = df[colonnes_a_exporter].copy()\n",
    "\n",
    "# Export vers un fichier Excel\n",
    "df_export.to_excel(\"../data/processed/exploration_adresses_stations.xlsx\", index=False)"
   ]
  },
  {
   "cell_type": "code",
   "execution_count": null,
   "id": "60db5c78-bdde-4925-86f9-961f6de711db",
   "metadata": {},
   "outputs": [],
   "source": []
  },
  {
   "cell_type": "code",
   "execution_count": null,
   "id": "3fe643a4-6ad8-4173-8846-cba266482b3f",
   "metadata": {},
   "outputs": [],
   "source": []
  },
  {
   "cell_type": "code",
   "execution_count": null,
   "id": "7b74e49f-c726-42c5-8eef-2b69f0fa1346",
   "metadata": {},
   "outputs": [],
   "source": []
  },
  {
   "cell_type": "code",
   "execution_count": null,
   "id": "779d8646-c5ad-435d-9e24-e36ec0cd27a2",
   "metadata": {},
   "outputs": [],
   "source": []
  },
  {
   "cell_type": "code",
   "execution_count": null,
   "id": "b616aac9-4cfd-4e8f-bfb5-c72cb98e7ef3",
   "metadata": {},
   "outputs": [],
   "source": []
  }
 ],
 "metadata": {
  "kernelspec": {
   "display_name": "Python 3 (ipykernel)",
   "language": "python",
   "name": "python3"
  },
  "language_info": {
   "codemirror_mode": {
    "name": "ipython",
    "version": 3
   },
   "file_extension": ".py",
   "mimetype": "text/x-python",
   "name": "python",
   "nbconvert_exporter": "python",
   "pygments_lexer": "ipython3",
   "version": "3.12.3"
  }
 },
 "nbformat": 4,
 "nbformat_minor": 5
}
